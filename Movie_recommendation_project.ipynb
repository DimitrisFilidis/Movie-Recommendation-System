{
 "cells": [
  {
   "cell_type": "markdown",
   "id": "d48d1d21-558f-4fe6-a4f1-e7b0254e1d57",
   "metadata": {},
   "source": [
    "## Data preprocessing\n"
   ]
  },
  {
   "cell_type": "code",
   "execution_count": 1,
   "id": "b27ee781-5480-4e1c-9b57-4e65e1e360b7",
   "metadata": {},
   "outputs": [],
   "source": [
    "import pandas as pd\n",
    "from surprise import Dataset, Reader"
   ]
  },
  {
   "cell_type": "code",
   "execution_count": 2,
   "id": "e173ee0c-6fc5-4835-9595-a416e426ca18",
   "metadata": {
    "scrolled": true
   },
   "outputs": [
    {
     "name": "stdout",
     "output_type": "stream",
     "text": [
      "Ratings Data:\n",
      "   user_id  movie_id  rating  timestamp\n",
      "0        1        17     4.0  944249077\n",
      "1        1        25     1.0  944250228\n",
      "2        1        29     2.0  943230976\n",
      "3        1        30     5.0  944249077\n",
      "4        1        32     5.0  943228858\n",
      "\n",
      "Movies Data:\n",
      "   movie_id                               title  \\\n",
      "0         1                    Toy Story (1995)   \n",
      "1         2                      Jumanji (1995)   \n",
      "2         3             Grumpier Old Men (1995)   \n",
      "3         4            Waiting to Exhale (1995)   \n",
      "4         5  Father of the Bride Part II (1995)   \n",
      "\n",
      "                                        genres  \n",
      "0  Adventure|Animation|Children|Comedy|Fantasy  \n",
      "1                   Adventure|Children|Fantasy  \n",
      "2                               Comedy|Romance  \n",
      "3                         Comedy|Drama|Romance  \n",
      "4                                       Comedy  \n",
      "\n",
      "Missing values in ratings data:\n",
      "user_id      0\n",
      "movie_id     0\n",
      "rating       0\n",
      "timestamp    0\n",
      "dtype: int64\n",
      "\n",
      "Missing values in movies data:\n",
      "movie_id    0\n",
      "title       0\n",
      "genres      0\n",
      "dtype: int64\n",
      "Data loaded successfully.\n"
     ]
    }
   ],
   "source": [
    "#Properation data\n",
    "def load_data():\n",
    "    try:\n",
    "        ratings = pd.read_csv ('ratings.csv', skiprows=1, names=['user_id', 'movie_id', 'rating', 'timestamp'])\n",
    "        movies = pd.read_csv('movies.csv', skiprows=1, names=['movie_id', 'title', 'genres'])\n",
    "        \n",
    "        # Displa yrows\n",
    "        print(\"Ratings Data:\")\n",
    "        print(ratings.head())\n",
    "        \n",
    "        print(\"\\nMovies Data:\")\n",
    "        print(movies.head())\n",
    "        \n",
    "        # Check for missing values\n",
    "        print(\"\\nMissing values in ratings data:\")\n",
    "        print(ratings.isnull().sum())\n",
    "        \n",
    "        print(\"\\nMissing values in movies data:\")\n",
    "        print(movies.isnull().sum())\n",
    "\n",
    "        # Read the data into a Surprise datasets\n",
    "        reader = Reader(rating_scale=(1, 5))\n",
    "        data = Dataset.load_from_df(ratings[['user_id', 'movie_id', 'rating']], reader)\n",
    "        \n",
    "        return data, ratings, movies\n",
    "        \n",
    "    except Exception as e:\n",
    "        print(f\"Error loading data: {e}\")\n",
    "        return None, None, None\n",
    "\n",
    "# Load and check data\n",
    "data, ratings, movies = load_data()\n",
    "if data is not None:\n",
    "    print(\"Data loaded successfully.\")"
   ]
  },
  {
   "cell_type": "markdown",
   "id": "56b8eb27-d51d-43aa-b57d-dc61ac951b64",
   "metadata": {},
   "source": [
    "## collaborative_filtering\n"
   ]
  },
  {
   "cell_type": "code",
   "execution_count": 3,
   "id": "6a26d1d8-3046-4b03-9031-8d069465a10d",
   "metadata": {},
   "outputs": [],
   "source": [
    "from surprise import SVD, accuracy\n",
    "from surprise.model_selection import train_test_split\n",
    "import pickle"
   ]
  },
  {
   "cell_type": "code",
   "execution_count": 4,
   "id": "ce4020a5-6baf-42e7-b893-d97b6b651c65",
   "metadata": {},
   "outputs": [
    {
     "name": "stdout",
     "output_type": "stream",
     "text": [
      "RMSE: 0.8007\n",
      "RMSE: 0.800718640281221\n"
     ]
    }
   ],
   "source": [
    "\n",
    "if data is not None:\n",
    "    # Split the data into training and test sets\n",
    "    trainset, testset = train_test_split(data, test_size=0.25)\n",
    "\n",
    "    # Use SVD for collaborative filtering\n",
    "    k_factors = 5\n",
    "    model = SVD(n_factors= k_factors, n_epochs= 200, biased= True, lr_all= 0.005, reg_all= 0, init_mean= 0, init_std_dev= 0.01)\n",
    "    model.fit(trainset)\n",
    "\n",
    "    # Predict ratings for the testset\n",
    "    predictions = model.test(testset)\n",
    "\n",
    "    # Evaluate performance\n",
    "    rmse = accuracy.rmse(predictions)\n",
    "    print(f'RMSE: {rmse}')\n",
    "\n",
    "\n",
    "# Save the model\n",
    "with open('svd_model.pkl', 'wb') as model_file:\n",
    "    pickle.dump(model, model_file)\n",
    "\n",
    "\n",
    "# # Load the model\n",
    "# with open('svd_model.pkl', 'rb') as model_file:\n",
    "#     model = pickle.load(model_file)"
   ]
  },
  {
   "cell_type": "markdown",
   "id": "360d8471-1bbd-43c6-8387-d0ab6b3e28b4",
   "metadata": {},
   "source": [
    "## evaluation_visualization"
   ]
  },
  {
   "cell_type": "code",
   "execution_count": 5,
   "id": "eca25f45-31b7-44f0-b5fb-4193de098fdd",
   "metadata": {},
   "outputs": [],
   "source": [
    "import matplotlib.pyplot as plt\n",
    "import seaborn as sns"
   ]
  },
  {
   "cell_type": "code",
   "execution_count": 11,
   "id": "f0def520-f962-49ad-8cb3-7e55c70ab76e",
   "metadata": {},
   "outputs": [
    {
     "data": {
      "image/png": "[encoded data removed]",
      "text/plain": [
       "<Figure size 1000x600 with 1 Axes>"
      ]
     },
     "metadata": {},
     "output_type": "display_data"
    }
   ],
   "source": [
    "def visualize_ratings(predictions):\n",
    "    # Convert predictions to DataFrame\n",
    "    df = pd.DataFrame(predictions, columns=['uid', 'iid', 'true_r', 'est', 'details'])\n",
    "    \n",
    "\n",
    "    df['error'] = df['true_r'] - df['est']\n",
    "\n",
    "    plt.figure(figsize=(10, 6))\n",
    "    sns.histplot(df['error'], bins=20, kde=True)\n",
    "    plt.title('Distribution of Prediction Errors')\n",
    "    plt.xlabel('Error')\n",
    "    plt.ylabel('Frequency')\n",
    "    plt.show()\n",
    "    \n",
    "# Visualize results\n",
    "visualize_ratings(predictions)"
   ]
  },
  {
   "cell_type": "code",
   "execution_count": 12,
   "id": "67579850-e387-4320-8ffa-1394c4b2f699",
   "metadata": {},
   "outputs": [
    {
     "name": "stdout",
     "output_type": "stream",
     "text": [
      "\n",
      "Summary Statistics for Ratings Data:\n",
      "            user_id      movie_id        rating     timestamp\n",
      "count  3.200020e+07  3.200020e+07  3.200020e+07  3.200020e+07\n",
      "mean   1.002785e+05  2.931861e+04  3.540396e+00  1.275241e+09\n",
      "std    5.794905e+04  5.095816e+04  1.058986e+00  2.561630e+08\n",
      "min    1.000000e+00  1.000000e+00  5.000000e-01  7.896520e+08\n",
      "25%    5.005300e+04  1.233000e+03  3.000000e+00  1.051012e+09\n",
      "50%    1.002970e+05  3.452000e+03  3.500000e+00  1.272622e+09\n",
      "75%    1.504510e+05  4.419900e+04  4.000000e+00  1.503158e+09\n",
      "max    2.009480e+05  2.927570e+05  5.000000e+00  1.697164e+09\n",
      "\n",
      "Summary Statistics for Movies Data:\n",
      "            movie_id\n",
      "count   87585.000000\n",
      "mean   157651.365519\n",
      "std     79013.402099\n",
      "min         1.000000\n",
      "25%    112657.000000\n",
      "50%    165741.000000\n",
      "75%    213203.000000\n",
      "max    292757.000000\n"
     ]
    }
   ],
   "source": [
    "# Summary statistics in csv files\n",
    "\n",
    "# print(\"\\nSummary Statistics for Ratings Data:\")\n",
    "# print(ratings.describe())\n",
    "\n",
    "# print(\"\\nSummary Statistics for Movies Data:\")\n",
    "# print(movies.describe())"
   ]
  },
  {
   "cell_type": "code",
   "execution_count": null,
   "id": "5b9894dc-3180-45e1-814e-829355bbb20f",
   "metadata": {},
   "outputs": [],
   "source": []
  }
 ],
 "metadata": {
  "kernelspec": {
   "display_name": "Python 3 (ipykernel)",
   "language": "python",
   "name": "python3"
  },
  "language_info": {
   "codemirror_mode": {
    "name": "ipython",
    "version": 3
   },
   "file_extension": ".py",
   "mimetype": "text/x-python",
   "name": "python",
   "nbconvert_exporter": "python",
   "pygments_lexer": "ipython3",
   "version": "3.12.5"
  }
 },
 "nbformat": 4,
 "nbformat_minor": 5
}
